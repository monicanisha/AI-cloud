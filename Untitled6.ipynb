{
  "nbformat": 4,
  "nbformat_minor": 0,
  "metadata": {
    "colab": {
      "provenance": [],
      "authorship_tag": "ABX9TyPGeZFFwTNea36gySwP3YJL",
      "include_colab_link": true
    },
    "kernelspec": {
      "name": "python3",
      "display_name": "Python 3"
    },
    "language_info": {
      "name": "python"
    }
  },
  "cells": [
    {
      "cell_type": "markdown",
      "metadata": {
        "id": "view-in-github",
        "colab_type": "text"
      },
      "source": [
        "<a href=\"https://colab.research.google.com/github/monicanisha/AI-cloud/blob/main/Untitled6.ipynb\" target=\"_parent\"><img src=\"https://colab.research.google.com/assets/colab-badge.svg\" alt=\"Open In Colab\"/></a>"
      ]
    },
    {
      "cell_type": "code",
      "execution_count": null,
      "metadata": {
        "id": "S6_KoHTBInPh"
      },
      "outputs": [],
      "source": [
        "import pandas as pd\n",
        "import numpy as np\n"
      ]
    },
    {
      "cell_type": "code",
      "source": [
        "import pandas as pd\n",
        "data=pd.read_excel(r'/content/data.xlsx')\n",
        "print(data)"
      ],
      "metadata": {
        "colab": {
          "base_uri": "https://localhost:8080/"
        },
        "id": "P7nvE0HTOHjs",
        "outputId": "88be1878-b451-46a7-cb5b-0b137a05ce00"
      },
      "execution_count": 33,
      "outputs": [
        {
          "output_type": "stream",
          "name": "stdout",
          "text": [
            "    Sl.no variables                                        description  \\\n",
            "0       1       mpg                                   mles/(us) gailon   \n",
            "1       2       cyl                               Number of cyclinders   \n",
            "2       3      disp                               displacement(cu.in.)   \n",
            "3       4        hp                                   Gross horsepower   \n",
            "4       5      drat                                    REAR axle ratio   \n",
            "5       6        wt                                   weight(1000 1bs)   \n",
            "6       7      qsec  Fastest time to travel 1/4 miles from standsti...   \n",
            "7       8        vs                     Engine cyclinder configuration   \n",
            "8       9        am                                  transmission type   \n",
            "9      10      gear                            Number of forward gears   \n",
            "10     11     carbs                              Number of carburetors   \n",
            "\n",
            "                                           categories  \n",
            "0                                                 NaN  \n",
            "1                                               4,6,8  \n",
            "2                                                 NaN  \n",
            "3                                                 NaN  \n",
            "4                                                 NaN  \n",
            "5                                                 NaN  \n",
            "6                                                 NaN  \n",
            "7                     0,1(0 -v-shape;1-straight Line)  \n",
            "8                            0,1(0-automatic;1-manual  \n",
            "9   3,4,5 manual transmissions have either 4 or 5 ...  \n",
            "10                                        1,2,3,4,6,8  \n"
          ]
        }
      ]
    },
    {
      "cell_type": "code",
      "source": [
        "!pip install matplotlip"
      ],
      "metadata": {
        "colab": {
          "base_uri": "https://localhost:8080/"
        },
        "id": "BwpG82SgVv3b",
        "outputId": "d87e42bc-3056-45a5-a971-142a6d4568de"
      },
      "execution_count": null,
      "outputs": [
        {
          "output_type": "stream",
          "name": "stdout",
          "text": [
            "Looking in indexes: https://pypi.org/simple, https://us-python.pkg.dev/colab-wheels/public/simple/\n",
            "Collecting matplotlip\n",
            "  Downloading matplotlip-0.2-py3-none-any.whl (1.8 kB)\n",
            "Installing collected packages: matplotlip\n",
            "Successfully installed matplotlip-0.2\n"
          ]
        }
      ]
    },
    {
      "cell_type": "code",
      "source": [
        "import matplotlib.pyplot"
      ],
      "metadata": {
        "id": "YDQaouymWRyw"
      },
      "execution_count": null,
      "outputs": []
    },
    {
      "cell_type": "code",
      "source": [],
      "metadata": {
        "id": "SmKKTsg1WezQ"
      },
      "execution_count": null,
      "outputs": []
    },
    {
      "cell_type": "code",
      "source": [
        "import seaborn  as sns\n",
        "sns.scatterplot(data['variables'],data['categories'])"
      ],
      "metadata": {
        "colab": {
          "base_uri": "https://localhost:8080/",
          "height": 351
        },
        "id": "Ps0gxTg6X6HZ",
        "outputId": "03dcd268-b126-4025-9eb4-b35b56772e35"
      },
      "execution_count": 37,
      "outputs": [
        {
          "output_type": "stream",
          "name": "stderr",
          "text": [
            "/usr/local/lib/python3.7/dist-packages/seaborn/_decorators.py:43: FutureWarning: Pass the following variables as keyword args: x, y. From version 0.12, the only valid positional argument will be `data`, and passing other arguments without an explicit keyword will result in an error or misinterpretation.\n",
            "  FutureWarning\n"
          ]
        },
        {
          "output_type": "execute_result",
          "data": {
            "text/plain": [
              "<matplotlib.axes._subplots.AxesSubplot at 0x7f2b5f80fc10>"
            ]
          },
          "metadata": {},
          "execution_count": 37
        },
        {
          "output_type": "display_data",
          "data": {
            "text/plain": [
              "<Figure size 432x288 with 1 Axes>"
            ],
            "image/png": "[encoded data removed]"
          },
          "metadata": {
            "needs_background": "light"
          }
        }
      ]
    },
    {
      "cell_type": "code",
      "source": [
        "import matplotlib.pyplot as plt\n"
      ],
      "metadata": {
        "id": "YsCcDRvCYuc4"
      },
      "execution_count": 42,
      "outputs": []
    },
    {
      "cell_type": "code",
      "source": [
        "plt.bar('transmition type',color='green',height=1)\n",
        "plt.xlabel('transmission type')\n",
        "plt.ylabel('type')\n",
        "plt.show()"
      ],
      "metadata": {
        "colab": {
          "base_uri": "https://localhost:8080/",
          "height": 279
        },
        "id": "iLqaR0oqdRd2",
        "outputId": "7131d86e-492f-4291-b002-29946f279fa2"
      },
      "execution_count": 49,
      "outputs": [
        {
          "output_type": "display_data",
          "data": {
            "text/plain": [
              "<Figure size 432x288 with 1 Axes>"
            ],
            "image/png": "[encoded data removed]"
          },
          "metadata": {
            "needs_background": "light"
          }
        }
      ]
    },
    {
      "cell_type": "code",
      "source": [
        "import matplotlib.pyplot as plt\n",
        "plt.hist('hp')"
      ],
      "metadata": {
        "colab": {
          "base_uri": "https://localhost:8080/",
          "height": 317
        },
        "id": "2NvWQZbAeYUn",
        "outputId": "aad73c93-bcad-491d-f876-de8ef3018449"
      },
      "execution_count": 46,
      "outputs": [
        {
          "output_type": "execute_result",
          "data": {
            "text/plain": [
              "(array([0., 0., 0., 0., 0., 1., 0., 0., 0., 0.]),\n",
              " array([-0.5, -0.4, -0.3, -0.2, -0.1,  0. ,  0.1,  0.2,  0.3,  0.4,  0.5]),\n",
              " <a list of 10 Patch objects>)"
            ]
          },
          "metadata": {},
          "execution_count": 46
        },
        {
          "output_type": "display_data",
          "data": {
            "text/plain": [
              "<Figure size 432x288 with 1 Axes>"
            ],
            "image/png": "[encoded data removed]"
          },
          "metadata": {
            "needs_background": "light"
          }
        }
      ]
    },
    {
      "cell_type": "code",
      "source": [
        "plt.boxplot([6,9,3,5,8]"
      ],
      "metadata": {
        "colab": {
          "base_uri": "https://localhost:8080/",
          "height": 130
        },
        "id": "uvLEccy9eptZ",
        "outputId": "40a7cd41-5394-4cf6-f19c-e762e9abc7fa"
      },
      "execution_count": 51,
      "outputs": [
        {
          "output_type": "error",
          "ename": "SyntaxError",
          "evalue": "ignored",
          "traceback": [
            "\u001b[0;36m  File \u001b[0;32m\"<ipython-input-51-7658f5d2a71f>\"\u001b[0;36m, line \u001b[0;32m1\u001b[0m\n\u001b[0;31m    plt.boxplot([6,9,3,5,8]\u001b[0m\n\u001b[0m                           ^\u001b[0m\n\u001b[0;31mSyntaxError\u001b[0m\u001b[0;31m:\u001b[0m unexpected EOF while parsing\n"
          ]
        }
      ]
    },
    {
      "cell_type": "code",
      "source": [
        "import matplotlib.pyplot as plt\n",
        "plt.boxplot([1, 9, 3, 5, 8])\n"
      ],
      "metadata": {
        "colab": {
          "base_uri": "https://localhost:8080/",
          "height": 404
        },
        "id": "s5JvhuTKkAFr",
        "outputId": "3ee0e150-c627-489c-9c7c-539ffee268f2"
      },
      "execution_count": 54,
      "outputs": [
        {
          "output_type": "execute_result",
          "data": {
            "text/plain": [
              "{'whiskers': [<matplotlib.lines.Line2D at 0x7f2b5e7a16d0>,\n",
              "  <matplotlib.lines.Line2D at 0x7f2b5e7a1b10>],\n",
              " 'caps': [<matplotlib.lines.Line2D at 0x7f2b5e7361d0>,\n",
              "  <matplotlib.lines.Line2D at 0x7f2b5e736090>],\n",
              " 'boxes': [<matplotlib.lines.Line2D at 0x7f2b5e7a1650>],\n",
              " 'medians': [<matplotlib.lines.Line2D at 0x7f2b5e736710>],\n",
              " 'fliers': [<matplotlib.lines.Line2D at 0x7f2b5e78d190>],\n",
              " 'means': []}"
            ]
          },
          "metadata": {},
          "execution_count": 54
        },
        {
          "output_type": "display_data",
          "data": {
            "text/plain": [
              "<Figure size 432x288 with 1 Axes>"
            ],
            "image/png": "[encoded data removed]"
          },
          "metadata": {
            "needs_background": "light"
          }
        }
      ]
    }
  ]
}